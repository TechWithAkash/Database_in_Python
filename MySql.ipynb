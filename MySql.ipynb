{
 "cells": [
  {
   "cell_type": "markdown",
   "id": "94340ec9",
   "metadata": {},
   "source": [
    "Q1. What is a database? Differentiate between SQL and NoSQL databases."
   ]
  },
  {
   "cell_type": "markdown",
   "id": "835a0b59",
   "metadata": {},
   "source": [
    "==>A database is an organized collection of structured information, or data, typically stored electronically in a computer system.\n",
    "\n",
    "SQL databases are relational, and NoSQL databases are non-relational. SQL databases use structured query language (SQL) and have a predefined schema. NoSQL databases have dynamic schemas for unstructured data. SQL databases are vertically scalable, while NoSQL databases are horizontally scalable."
   ]
  },
  {
   "cell_type": "code",
   "execution_count": null,
   "id": "cb531ed8",
   "metadata": {},
   "outputs": [],
   "source": []
  },
  {
   "cell_type": "markdown",
   "id": "d40ef669",
   "metadata": {},
   "source": [
    "Q2. What is DDL? Explain why CREATE, DROP, ALTER, and TRUNCATE are used with an example."
   ]
  },
  {
   "cell_type": "markdown",
   "id": "d927efdd",
   "metadata": {},
   "source": [
    "==>Data Definition Language(DDL) is a subset of SQL and a part of DBMS(Database Management System). DDL consist of Commands to commands like CREATE, ALTER, TRUNCATE and DROP. These commands are used to create or modify the tables in SQL.\n",
    "\n",
    "DDL Commands :\n",
    "In this section, We will cover the following DDL commands as follows.\n",
    "\n",
    "1.Create\n",
    "2.Alter \n",
    "3,truncate\n",
    "4.drop\n",
    "5.Rename "
   ]
  },
  {
   "cell_type": "markdown",
   "id": "aef751c6",
   "metadata": {},
   "source": [
    "1.CREATE :\n",
    "This command is used to create a new table in SQL. \n",
    "Example –\n",
    "We need to create a table for storing Student information of a particular College. Create syntax would be as below.\n",
    "\n",
    "CREATE TABLE Student_info\n",
    "(\n",
    "College_Id number(2),\n",
    "College_name varchar(30),\n",
    "Branch varchar(10)\n",
    ");"
   ]
  },
  {
   "cell_type": "markdown",
   "id": "581247ae",
   "metadata": {},
   "source": [
    "2)DROP :\n",
    "This command is used to remove an existing table along with its structure from the Database.\n",
    "Example –\n",
    "If the College Authority wants to change their Database by deleting the Student_info Table. \n",
    "\n",
    "DROP TABLE Student_info;\n"
   ]
  },
  {
   "cell_type": "markdown",
   "id": "9eccd075",
   "metadata": {},
   "source": [
    "3)ALTER :\n",
    "This command is used to add, delete or change columns in the existing table.\n",
    "In our Student_info table, we want to add a new column for CGPA. The syntax would be as below as follows.\n",
    "\n",
    "ALTER TABLE Student_info\n",
    "ADD CGPA number;"
   ]
  },
  {
   "cell_type": "markdown",
   "id": "6896761f",
   "metadata": {},
   "source": [
    "4)TRUNCATE :\n",
    "This command is used to remove all rows from the table, but the structure of the table still exists.\n",
    "Example –\n",
    "The College Authority wants to remove the details of all students for new batches but wants to keep the table structure. The command they can use is as follows.\n",
    "TRUNCATE TABLE Student_info;\n",
    "\n"
   ]
  },
  {
   "cell_type": "code",
   "execution_count": null,
   "id": "d36a3f6b",
   "metadata": {},
   "outputs": [],
   "source": []
  },
  {
   "cell_type": "markdown",
   "id": "6aa536e4",
   "metadata": {},
   "source": [
    "Q3. What is DML? Explain INSERT, UPDATE, and DELETE with an example."
   ]
  },
  {
   "cell_type": "markdown",
   "id": "d132dd72",
   "metadata": {},
   "source": [
    "==>DML stands for Data Manipulation Language. Tables and formulas are helpful when communicating with data stored up to a point in a database through SQL."
   ]
  },
  {
   "cell_type": "markdown",
   "id": "93b0a7e0",
   "metadata": {},
   "source": [
    "1)INSERT Command –\n",
    "This command is used to enter the information or values into a row. \n",
    "Example :\n",
    "\n",
    "INSERT INTO students ('stu_id' int, 'stu_name' varchar(20), 'city' varchar(20))\n",
    "\n",
    "VALUES ('11', 'kalpesh', 'mumbai'); "
   ]
  },
  {
   "cell_type": "markdown",
   "id": "573fe5e6",
   "metadata": {},
   "source": [
    "2)UPDATE Command –\n",
    "This command is used to alter existing table records. Within a table, it modifies data from one or more records.\n",
    "\n",
    "Example :\n",
    "\n",
    "UPDATE students\n",
    "\n",
    "SET due_fees = 50000\n",
    "\n",
    "WHERE stu_name = 'Akash'; \n"
   ]
  },
  {
   "cell_type": "markdown",
   "id": "a427498f",
   "metadata": {},
   "source": [
    "3)DELETE Command –\n",
    "It deletes all archives from a table or we can also use the WHERE clause to delete a data from particualr table.\n",
    "\n",
    "Example :\n",
    "\n",
    "DELETE FROM emp\n",
    "\n",
    "WHERE id = '456'; "
   ]
  },
  {
   "cell_type": "code",
   "execution_count": null,
   "id": "722e6c6d",
   "metadata": {},
   "outputs": [],
   "source": []
  },
  {
   "cell_type": "markdown",
   "id": "f1d2f45f",
   "metadata": {},
   "source": [
    "Q4. What is DQL? Explain SELECT with an example."
   ]
  },
  {
   "cell_type": "markdown",
   "id": "bfbbb5a7",
   "metadata": {},
   "source": [
    "==>>DQL (Data Query Language)\n",
    "DQL statements are used for performing queries on the data within schema objects. The purpose of the DQL Command is to get some schema relation based on the query passed to it. \n",
    "\n",
    "1)SELECT:\n",
    "The SELECT Statement in SQL is used to retrieve or fetch data from a database. \n",
    " \n",
    "EXAMPLE:\n",
    "SELECT CustomerName, LastName FROM Customer;\n",
    "(Applying this query we can see the updated table)"
   ]
  },
  {
   "cell_type": "code",
   "execution_count": null,
   "id": "f84be381",
   "metadata": {},
   "outputs": [],
   "source": []
  },
  {
   "cell_type": "markdown",
   "id": "32e28d82",
   "metadata": {},
   "source": [
    "Q5. Explain Primary Key and Foreign Key."
   ]
  },
  {
   "cell_type": "markdown",
   "id": "f4ea782b",
   "metadata": {},
   "source": [
    "==>\n",
    "1)PRIMARY KEY:\n",
    "    A primary key is used to ensure that data in the specific column is unique. A column cannot have NULL values. It is either an existing table column or a column that is specifically generated by the database according to a defined sequence. \n",
    "\n",
    "Example: \n",
    "    STUD_NO, as well as STUD_PHONE both, are candidate keys for relation STUDENT but STUD_NO can be chosen as the primary key (only one out of many candidate keys). \n",
    "    "
   ]
  },
  {
   "cell_type": "markdown",
   "id": "4841a90e",
   "metadata": {},
   "source": [
    "2)FOREIGN KEY:\n",
    "    A foreign key is a column or group of columns in a relational database table that provides a link between data in two tables. It is a column (or columns) that references a column (most often the primary key) of another table. \n",
    "\n",
    "Example: STUD_NO in STUDENT_COURSE is a foreign key to STUD_NO in STUDENT relation. "
   ]
  },
  {
   "cell_type": "code",
   "execution_count": null,
   "id": "e81f83a2",
   "metadata": {},
   "outputs": [],
   "source": [
    "\n"
   ]
  },
  {
   "cell_type": "markdown",
   "id": "c695a2c4",
   "metadata": {},
   "source": [
    "Q6. Write a python code to connect MySQL to python. Explain the cursor() and execute() method."
   ]
  },
  {
   "cell_type": "markdown",
   "id": "e8362e89",
   "metadata": {},
   "source": [
    "==>1)execute()\n",
    "\n",
    "The  execute methodis used to executes the given database operation (query or command). The parameters found in the tuple or dictionary params are bound to the variables in the operation. Specify variables using %s or %( name )s parameter style (that is, using format or pyformat style). execute() returns an iterator if multi is True .\n",
    "\n",
    "\n",
    "2)cursor()\n",
    "\n",
    "A cursor is an object which helps to execute the query and fetch the records from the database. The cursor plays a very important role in executing the query."
   ]
  },
  {
   "cell_type": "markdown",
   "id": "7decc7d3",
   "metadata": {},
   "source": [
    "********************MySql connection code**********************\n",
    "import mysql.connector\n",
    "\n",
    "mydb = mysql.connector.connect(\n",
    "  host=\"localhost\",\n",
    "  user=\"abc\",\n",
    "  password=\"password\"\n",
    ")\n",
    "mycursor = mydb.cursor()\n",
    "mycursor.execute(\"select c3,c4,c5 from test2.test_table\")\n",
    "for i in mycursor.fetchall():\n",
    "    print(i)\n",
    "mydb.close()"
   ]
  },
  {
   "cell_type": "markdown",
   "id": "942e9faa",
   "metadata": {},
   "source": [
    "********************Mysql Data Insertion code****************\n",
    "import mysql.connector\n",
    "\n",
    "mydb = mysql.connector.connect(\n",
    "  host=\"localhost\",\n",
    "  user=\"abc\",\n",
    "  password=\"password\"\n",
    ")\n",
    "mycursor = mydb.cursor()\n",
    "\n",
    "\n",
    "mycursor.execute(\"create table if not exists employee.emp_table( emp_id int(12) , Name VARCHAR(23) , salary bigint , designation VARCHAR(23))\")\n",
    "\n",
    "\n",
    "mycursor.execute(\"insert into employee.emp_table values(45,'Akash', '200000','Data Sceintist') \")\n",
    "mycursor.execute(\"insert into employee.emp_table values(48,'Sahil', 22000,'java Developer') \")\n",
    "mycursor.execute(\"insert into employee.emp_table values(47,'Pranay', 50000,'Python Developer' )\")\n",
    "mycursor.execute(\"insert into employee.emp_table values(49,'Spandan', 26000,'Data engineer')\")\n",
    "mycursor.execute(\"insert into employee.emp_table values(52,'Ramesh', 45000,'Frontened Developer' )\")\n",
    "\n",
    "mydb.commit()\n",
    "mydb.close()"
   ]
  },
  {
   "cell_type": "markdown",
   "id": "c9cb652f",
   "metadata": {},
   "source": [
    "***********Viewing a table by using following Query****************\n",
    "    SELECT * FROM employee.emp_table;"
   ]
  },
  {
   "cell_type": "markdown",
   "id": "f8e76436",
   "metadata": {},
   "source": [
    "OUTPUT :-"
   ]
  },
  {
   "cell_type": "code",
   "execution_count": 4,
   "id": "752a47c9",
   "metadata": {},
   "outputs": [
    {
     "data": {
      "text/html": [
       "<img src=\"emptable.png\" width=\"1000\" height=\"1000\"/>"
      ],
      "text/plain": [
       "<IPython.core.display.Image object>"
      ]
     },
     "execution_count": 4,
     "metadata": {},
     "output_type": "execute_result"
    }
   ],
   "source": [
    "# Note : Following code  is implementing to insert an output image.\n",
    "from IPython.display import Image\n",
    "  \n",
    "# get the image\n",
    "Image(url=\"emptable.png\", width=1000, height=1000)"
   ]
  },
  {
   "cell_type": "code",
   "execution_count": null,
   "id": "63453c54",
   "metadata": {},
   "outputs": [],
   "source": []
  },
  {
   "cell_type": "code",
   "execution_count": null,
   "id": "874f75a7",
   "metadata": {},
   "outputs": [],
   "source": []
  },
  {
   "cell_type": "markdown",
   "id": "68118abb",
   "metadata": {},
   "source": [
    "Q7. Give the order of execution of SQL clauses in an SQL query."
   ]
  },
  {
   "cell_type": "raw",
   "id": "851c2142",
   "metadata": {},
   "source": [
    "==>Order\tClause\tFunction\n",
    "   1\t    FROM\tTables are joined to get the base data.\n",
    "   2\t    WHERE\tThe base data is filtered.\n",
    "   3\t    GROUP BY\tThe filtered base data is grouped.\n",
    "   4\t    HAVING\t  The grouped base data is filtered.\n",
    "   5\t    SELECT\t  The final data is returned.\n",
    "   6\t    ORDER BY\tThe final data is sorted.\n",
    "   7\t    LIMIT\tThe returned data is limited to row count."
   ]
  },
  {
   "cell_type": "code",
   "execution_count": null,
   "id": "308708c5",
   "metadata": {},
   "outputs": [],
   "source": []
  }
 ],
 "metadata": {
  "kernelspec": {
   "display_name": "Python 3 (ipykernel)",
   "language": "python",
   "name": "python3"
  },
  "language_info": {
   "codemirror_mode": {
    "name": "ipython",
    "version": 3
   },
   "file_extension": ".py",
   "mimetype": "text/x-python",
   "name": "python",
   "nbconvert_exporter": "python",
   "pygments_lexer": "ipython3",
   "version": "3.10.9"
  }
 },
 "nbformat": 4,
 "nbformat_minor": 5
}
